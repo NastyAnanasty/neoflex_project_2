{
 "cells": [
  {
   "cell_type": "code",
   "execution_count": 4,
   "id": "a3ff1a2f-6c87-436d-be92-00c4861daf1c",
   "metadata": {},
   "outputs": [
    {
     "name": "stdout",
     "output_type": "stream",
     "text": [
      "Defaulting to user installation because normal site-packages is not writeable\n",
      "Requirement already satisfied: psycopg2-binary in /home/nasty280700/.local/lib/python3.10/site-packages (2.9.7)\n",
      "Defaulting to user installation because normal site-packages is not writeable\n",
      "Requirement already satisfied: delta-spark==2.0.2 in /home/nasty280700/.local/lib/python3.10/site-packages (2.0.2)\n",
      "Requirement already satisfied: pyspark<3.3.0,>=3.2.0 in /home/nasty280700/.local/lib/python3.10/site-packages (from delta-spark==2.0.2) (3.2.4)\n",
      "Requirement already satisfied: importlib-metadata>=1.0.0 in /usr/lib/python3/dist-packages (from delta-spark==2.0.2) (4.6.4)\n",
      "Requirement already satisfied: py4j==0.10.9.5 in /home/nasty280700/.local/lib/python3.10/site-packages (from pyspark<3.3.0,>=3.2.0->delta-spark==2.0.2) (0.10.9.5)\n"
     ]
    }
   ],
   "source": [
    "!pip install psycopg2-binary\n",
    "!pip install delta-spark==2.0.2"
   ]
  },
  {
   "cell_type": "code",
   "execution_count": 5,
   "id": "321461e5-7f43-451d-b123-e398b9f52824",
   "metadata": {},
   "outputs": [],
   "source": [
    "import psycopg2\n",
    "import numpy as np\n",
    "\n",
    "import os\n",
    "from datetime import datetime\n",
    "\n",
    "import findspark\n",
    "findspark.init('/home/nasty280700/spark-3.2.4-bin-hadoop3.2')\n",
    "#findspark.init('/home/nasty280700/.local/lib/python3.10/site-packages/pyspark')\n",
    "import pyspark\n",
    "from pyspark.sql import SparkSession\n",
    "\n",
    "from pyspark.sql.utils import AnalysisException\n",
    "from pyspark.sql.functions import lit\n",
    "from pyspark.sql.functions import when, coalesce, col\n",
    "from delta.tables import DeltaTable"
   ]
  },
  {
   "cell_type": "code",
   "execution_count": 6,
   "id": "fbc0491b-0ef3-4d34-8a53-36f2661017b0",
   "metadata": {},
   "outputs": [],
   "source": [
    "def create_mirrow_with_table (table_name:str, delta_dir:str, primary_keys:list):\n",
    "    print('подключение к базе данных')\n",
    "    \n",
    "    conn = psycopg2.connect(user='postgres',\n",
    "                            password = '',\n",
    "                            host='127.0.0.1',\n",
    "                            port='5432',\n",
    "                            database='postgres')\n",
    "    cursor = conn.cursor()\n",
    "    \n",
    "    get_table_col_name= f\"SELECT column_name FROM information_schema.columns WHERE table_name = '{table_name}' ORDER BY ordinal_position\"\n",
    "    cursor.execute(get_table_col_name)\n",
    "    col_name = cursor.fetchall()\n",
    "    \n",
    "    query = f\"SELECT * FROM {table_name}\"\n",
    "    cursor.execute(query)\n",
    "    df_data = cursor.fetchall()\n",
    "    \n",
    "    create_table_query = \"\"\"\n",
    "    CREATE TABLE IF NOT EXISTS public.log_1 (\n",
    "        operation_start_time timestamp,\n",
    "        delta_id varchar(5),\n",
    "        start_or_end varchar(5),\n",
    "        table_name varchar (15)\n",
    "    )\n",
    "    \"\"\"\n",
    "    conn.commit()\n",
    "    cursor.execute(create_table_query)\n",
    "\n",
    "    print('создание spark сессии')\n",
    "    \n",
    "    spark = (SparkSession.builder\n",
    "             .config(\"spark.memory.offHeap.enabled\",\"true\")\n",
    "             .config(\"spark.memory.offHeap.size\",\"16g\")\n",
    "             .appName('project_2.2')\n",
    "             .enableHiveSupport()\n",
    "             .getOrCreate())\n",
    "    \n",
    "    spark_df = spark.createDataFrame(df_data, list(zip(*col_name))[0])\n",
    "    spark_df = spark_df.withColumn('account_rk', col('account_rk').cast('int'))\n",
    "    spark_df = spark_df.withColumn('currency_rk', col('currency_rk').cast('int'))\n",
    "    spark_df.show(3)\n",
    "    \n",
    "    delta_ids = []\n",
    "    for folder_name in sorted(os.listdir(delta_dir)):\n",
    "        if len(folder_name) == 4:\n",
    "            delta_ids.append(folder_name)\n",
    "    get_checked_deltas = \"\"\"\n",
    "        SELECT delta_id FROM public.log_1 WHERE start_or_end = 'END'\n",
    "    \"\"\"\n",
    "    cursor.execute(get_checked_deltas)\n",
    "    checked_deltas = cursor.fetchall()\n",
    "    conn.commit()\n",
    "    \n",
    "    if len(checked_deltas) == 0:\n",
    "        pass\n",
    "    else:\n",
    "        checked_deltas = list(zip(*checked_deltas))[0]\n",
    "        \n",
    "    for id, del_id in enumerate(sorted(set(delta_ids).symmetric_difference(set(checked_deltas)))):\n",
    "        print('считывается дельта', del_id)\n",
    "        \n",
    "        current_time = datetime.now()\n",
    "        insert_start_to_log = f\"\"\"\n",
    "            INSERT INTO public.log_1\n",
    "            VALUES ('{current_time}', '{del_id}', 'START', '{table_name}');\n",
    "            \"\"\"\n",
    "        cursor.execute(insert_start_to_log)\n",
    "        conn.commit()\n",
    "        \n",
    "        if del_id[-1] == '0':\n",
    "            path = delta_dir + del_id + '/md_account_d' + '.csv'\n",
    "        else:\n",
    "            path = delta_dir + del_id + '/md_account_d' + '_' + del_id[-1] + '.csv'\n",
    "        delta_df = spark.read.csv(path, header=True, sep = ';')\n",
    "        delta_df = delta_df.na.drop(\"all\")\n",
    "    \n",
    "        for col_name in delta_df.columns:\n",
    "            delta_df = delta_df.withColumnRenamed(col_name, col_name.lower())\n",
    "            \n",
    "        try:\n",
    "            delta_data = delta_df.exceptAll(spark_df)\n",
    "        except AnalysisException:\n",
    "            for new_columns in (sorted(set(delta_df.columns).symmetric_difference(set(spark_df.columns)))):\n",
    "                spark_df = spark_df.withColumn(new_columns, lit(None))\n",
    "        delta_data = delta_df.exceptAll(spark_df)\n",
    "\n",
    "        for col_name in spark_df.columns:\n",
    "            spark_df = spark_df.withColumnRenamed(col_name, 'spr_' + col_name)\n",
    "    \n",
    "        condition = None\n",
    "        for key in primary_keys:\n",
    "            if condition is None:\n",
    "                condition = col(f'{key}') == col(f'spr_{key}')\n",
    "                when_condition_del = col(f'{key}').isNull()\n",
    "            else:\n",
    "                condition = condition & (col(f'{key}') == col(f'spr_{key}'))\n",
    "                when_condition_del = when_condition_del & (col(f'{key}').isNull()) \n",
    "                \n",
    "        join_data = delta_data.join(spark_df, condition, how='outer')\n",
    "    \n",
    "        join_data = join_data.withColumn('delete_flag', when(when_condition_del, 'y')\n",
    "                                          .otherwise('n'))\n",
    "\n",
    "        mirrow = join_data.select('delete_flag',\n",
    "        *[when(col('delete_flag') == 'n', col(column)).otherwise(col('spr_' + column)).alias(column)\n",
    "        for column in delta_data.columns])\n",
    "        \n",
    "        #update_del = join_data.filter(col('delete_flag') == 'y').select(*spark_df.columns, 'delete_flag')\n",
    "        #update_del.show(5)\n",
    "        #for i, col_name in enumerate(update_del.columns):\n",
    "         #   if i != len(update_del.columns)-1:\n",
    "          #      update_del = update_del.withColumnRenamed(col_name, delta_data.columns[i])    \n",
    "        #mirrow = update_del.union(join_data.filter(col('delete_flag') == 'n').select(*delta_data.columns, 'delete_flag'))\n",
    "        print('количество записей в зеркале', mirrow.count())\n",
    "        mirrow.toPandas().to_csv('mirr_md_account_d/md_account.csv', index = False)\n",
    "        mirrow.show(5)\n",
    "        mirrow = mirrow.drop('delete_flag')\n",
    "        spark_df = mirrow\n",
    "        \n",
    "        current_time = datetime.now()\n",
    "        insert_end_to_log = f\"\"\"\n",
    "            INSERT INTO public.log_1 \n",
    "            VALUES ('{current_time}', '{del_id}', 'END', '{table_name}');\n",
    "            \"\"\"\n",
    "        cursor.execute(insert_end_to_log)\n",
    "        conn.commit()\n",
    "    spark.stop()\n",
    "    cursor.close()\n",
    "    conn.commit()\n",
    "    conn.close()"
   ]
  },
  {
   "cell_type": "code",
   "execution_count": 8,
   "id": "f987d25b-dc85-4486-9fca-02c3d227a0f0",
   "metadata": {},
   "outputs": [
    {
     "name": "stdout",
     "output_type": "stream",
     "text": [
      "подключение к базе данных\n",
      "создание spark сессии\n"
     ]
    },
    {
     "name": "stderr",
     "output_type": "stream",
     "text": [
      "                                                                                \r"
     ]
    },
    {
     "name": "stdout",
     "output_type": "stream",
     "text": [
      "+----------------+--------------------+----------+--------------------+---------+-----------+-------------+\n",
      "|data_actual_date|data_actual_end_date|account_rk|      account_number|char_type|currency_rk|currency_code|\n",
      "+----------------+--------------------+----------+--------------------+---------+-----------+-------------+\n",
      "|      2018-01-01|          2018-01-31|  36237725|30425840700000583001|        A|         35|          840|\n",
      "|      2018-01-01|          2018-01-31|     24656|30114840700000770002|        A|         35|          840|\n",
      "|      2018-01-01|          2018-01-31|  18849846|30109810500000435003|        P|         34|          643|\n",
      "+----------------+--------------------+----------+--------------------+---------+-----------+-------------+\n",
      "only showing top 3 rows\n",
      "\n",
      "считывается дельта 1004\n"
     ]
    },
    {
     "name": "stderr",
     "output_type": "stream",
     "text": [
      "                                                                                \r"
     ]
    },
    {
     "name": "stdout",
     "output_type": "stream",
     "text": [
      "количество записей в зеркале 112\n"
     ]
    },
    {
     "name": "stderr",
     "output_type": "stream",
     "text": [
      "                                                                                \r"
     ]
    },
    {
     "name": "stdout",
     "output_type": "stream",
     "text": [
      "+-----------+----------------+--------------------+----------+--------------------+---------+-----------+-------------+---------+---------+----------------+\n",
      "|delete_flag|data_actual_date|data_actual_end_date|account_rk|      account_number|char_type|currency_rk|currency_code|client_id|branch_id|open_in_internet|\n",
      "+-----------+----------------+--------------------+----------+--------------------+---------+-----------+-------------+---------+---------+----------------+\n",
      "|          y|      2018-01-01|          2018-01-31|     13560|30110810300000008001|        A|         34|          643|     null|     null|            null|\n",
      "|          y|      2018-01-01|          2018-01-31|     13597|30110840900000008002|        A|         35|          840|     null|     null|            null|\n",
      "|          y|      2018-01-01|          2018-01-31|     13598|30114840100000009001|        A|         35|          840|     null|     null|            null|\n",
      "|          y|      2018-01-01|          2018-01-31|     13630|30102810900000002185|        A|         34|          643|     null|     null|            null|\n",
      "|          y|      2018-01-01|          2018-01-31|     13631|30114840300000003001|        A|         35|          840|     null|     null|            null|\n",
      "+-----------+----------------+--------------------+----------+--------------------+---------+-----------+-------------+---------+---------+----------------+\n",
      "only showing top 5 rows\n",
      "\n"
     ]
    }
   ],
   "source": [
    "create_mirrow_with_table('md_account_d', 'data_deltas/', ['account_rk'])"
   ]
  },
  {
   "cell_type": "code",
   "execution_count": 5,
   "id": "c0cc1ea5-b52f-4fd0-aa07-d132e40c128d",
   "metadata": {
    "scrolled": true
   },
   "outputs": [
    {
     "name": "stdout",
     "output_type": "stream",
     "text": [
      "подключение к базе данных\n",
      "создание spark сессии\n"
     ]
    },
    {
     "name": "stderr",
     "output_type": "stream",
     "text": [
      "                                                                                \r"
     ]
    },
    {
     "name": "stdout",
     "output_type": "stream",
     "text": [
      "+----------------+--------------------+----------+--------------------+---------+-----------+-------------+\n",
      "|data_actual_date|data_actual_end_date|account_rk|      account_number|char_type|currency_rk|currency_code|\n",
      "+----------------+--------------------+----------+--------------------+---------+-----------+-------------+\n",
      "|      2018-01-01|          2018-01-31|  36237725|30425840700000583001|        A|         35|          840|\n",
      "|      2018-01-01|          2018-01-31|     24656|30114840700000770002|        A|         35|          840|\n",
      "|      2018-01-01|          2018-01-31|  18849846|30109810500000435003|        P|         34|          643|\n",
      "+----------------+--------------------+----------+--------------------+---------+-----------+-------------+\n",
      "only showing top 3 rows\n",
      "\n",
      "считывается дельта 1004\n"
     ]
    },
    {
     "name": "stderr",
     "output_type": "stream",
     "text": [
      "                                                                                \r"
     ]
    },
    {
     "name": "stdout",
     "output_type": "stream",
     "text": [
      "количество удалённых строк 110\n"
     ]
    },
    {
     "name": "stderr",
     "output_type": "stream",
     "text": [
      "                                                                                \r"
     ]
    },
    {
     "name": "stdout",
     "output_type": "stream",
     "text": [
      "количество обновлённых строк 2\n"
     ]
    },
    {
     "name": "stderr",
     "output_type": "stream",
     "text": [
      "                                                                                \r"
     ]
    },
    {
     "name": "stdout",
     "output_type": "stream",
     "text": [
      "количество вставленных строк 0\n",
      "количество записей в зеркале 112\n"
     ]
    },
    {
     "name": "stderr",
     "output_type": "stream",
     "text": [
      "                                                                                \r"
     ]
    }
   ],
   "source": [
    "create_mirrow_with_table('md_account_d', 'data_deltas/', ['account_rk'])"
   ]
  },
  {
   "cell_type": "code",
   "execution_count": null,
   "id": "3ab60bfa-f9a4-4eef-ab98-e8e6becedfe8",
   "metadata": {},
   "outputs": [],
   "source": []
  },
  {
   "cell_type": "code",
   "execution_count": null,
   "id": "839a767b-87e0-41bf-b733-baae319db310",
   "metadata": {},
   "outputs": [],
   "source": []
  },
  {
   "cell_type": "code",
   "execution_count": null,
   "id": "d91eccc7-6ec4-4e58-b089-1a4ffddd77cc",
   "metadata": {},
   "outputs": [],
   "source": []
  },
  {
   "cell_type": "code",
   "execution_count": null,
   "id": "179be48f-8018-4192-a0d6-e7c737ff7616",
   "metadata": {},
   "outputs": [],
   "source": []
  },
  {
   "cell_type": "code",
   "execution_count": null,
   "id": "5eadc6f2-bfa1-434d-aa98-939f485811e4",
   "metadata": {},
   "outputs": [],
   "source": []
  },
  {
   "cell_type": "code",
   "execution_count": null,
   "id": "e5ef2b24-99f3-4849-9ad4-18bfcc486f67",
   "metadata": {},
   "outputs": [],
   "source": []
  },
  {
   "cell_type": "code",
   "execution_count": null,
   "id": "d6f64958-3004-40fe-8a6a-f2706e53dfd5",
   "metadata": {},
   "outputs": [],
   "source": []
  },
  {
   "cell_type": "code",
   "execution_count": null,
   "id": "1e02df93-8240-468c-8ed8-310919fc27e9",
   "metadata": {},
   "outputs": [],
   "source": []
  },
  {
   "cell_type": "code",
   "execution_count": 5,
   "id": "41075041-aa05-4b3b-8524-38afa16c0276",
   "metadata": {},
   "outputs": [
    {
     "name": "stderr",
     "output_type": "stream",
     "text": [
      "23/09/17 23:10:17 WARN SparkSession: Cannot use io.delta.sql.DeltaSparkSessionExtension to configure session extensions.\n",
      "java.lang.ClassNotFoundException: io.delta.sql.DeltaSparkSessionExtension\n",
      "\tat java.base/java.net.URLClassLoader.findClass(URLClassLoader.java:476)\n",
      "\tat java.base/java.lang.ClassLoader.loadClass(ClassLoader.java:594)\n",
      "\tat java.base/java.lang.ClassLoader.loadClass(ClassLoader.java:527)\n",
      "\tat java.base/java.lang.Class.forName0(Native Method)\n",
      "\tat java.base/java.lang.Class.forName(Class.java:398)\n",
      "\tat org.apache.spark.util.Utils$.classForName(Utils.scala:216)\n",
      "\tat org.apache.spark.sql.SparkSession$.$anonfun$applyExtensions$1(SparkSession.scala:1194)\n",
      "\tat org.apache.spark.sql.SparkSession$.$anonfun$applyExtensions$1$adapted(SparkSession.scala:1192)\n",
      "\tat scala.collection.mutable.ResizableArray.foreach(ResizableArray.scala:62)\n",
      "\tat scala.collection.mutable.ResizableArray.foreach$(ResizableArray.scala:55)\n",
      "\tat scala.collection.mutable.ArrayBuffer.foreach(ArrayBuffer.scala:49)\n",
      "\tat org.apache.spark.sql.SparkSession$.org$apache$spark$sql$SparkSession$$applyExtensions(SparkSession.scala:1192)\n",
      "\tat org.apache.spark.sql.SparkSession.<init>(SparkSession.scala:104)\n",
      "\tat java.base/jdk.internal.reflect.NativeConstructorAccessorImpl.newInstance0(Native Method)\n",
      "\tat java.base/jdk.internal.reflect.NativeConstructorAccessorImpl.newInstance(NativeConstructorAccessorImpl.java:62)\n",
      "\tat java.base/jdk.internal.reflect.DelegatingConstructorAccessorImpl.newInstance(DelegatingConstructorAccessorImpl.java:45)\n",
      "\tat java.base/java.lang.reflect.Constructor.newInstance(Constructor.java:490)\n",
      "\tat py4j.reflection.MethodInvoker.invoke(MethodInvoker.java:247)\n",
      "\tat py4j.reflection.ReflectionEngine.invoke(ReflectionEngine.java:357)\n",
      "\tat py4j.Gateway.invoke(Gateway.java:238)\n",
      "\tat py4j.commands.ConstructorCommand.invokeConstructor(ConstructorCommand.java:80)\n",
      "\tat py4j.commands.ConstructorCommand.execute(ConstructorCommand.java:69)\n",
      "\tat py4j.ClientServerConnection.waitForCommands(ClientServerConnection.java:182)\n",
      "\tat py4j.ClientServerConnection.run(ClientServerConnection.java:106)\n",
      "\tat java.base/java.lang.Thread.run(Thread.java:829)\n"
     ]
    },
    {
     "ename": "Py4JJavaError",
     "evalue": "An error occurred while calling o500.csv.\n: org.apache.spark.SparkException: Cannot find catalog plugin class for catalog 'spark_catalog': org.apache.spark.sql.delta.catalog.DeltaCatalog\n\tat org.apache.spark.sql.errors.QueryExecutionErrors$.catalogPluginClassNotFoundForCatalogError(QueryExecutionErrors.scala:1455)\n\tat org.apache.spark.sql.connector.catalog.Catalogs$.load(Catalogs.scala:65)\n\tat org.apache.spark.sql.connector.catalog.CatalogManager.loadV2SessionCatalog(CatalogManager.scala:66)\n\tat org.apache.spark.sql.connector.catalog.CatalogManager.$anonfun$v2SessionCatalog$2(CatalogManager.scala:85)\n\tat scala.collection.mutable.HashMap.getOrElseUpdate(HashMap.scala:86)\n\tat org.apache.spark.sql.connector.catalog.CatalogManager.$anonfun$v2SessionCatalog$1(CatalogManager.scala:85)\n\tat scala.Option.map(Option.scala:230)\n\tat org.apache.spark.sql.connector.catalog.CatalogManager.v2SessionCatalog(CatalogManager.scala:84)\n\tat org.apache.spark.sql.connector.catalog.CatalogManager.catalog(CatalogManager.scala:50)\n\tat org.apache.spark.sql.connector.catalog.CatalogManager.currentCatalog(CatalogManager.scala:117)\n\tat org.apache.spark.sql.connector.catalog.CatalogManager.$anonfun$currentNamespace$1(CatalogManager.scala:93)\n\tat scala.Option.getOrElse(Option.scala:189)\n\tat org.apache.spark.sql.connector.catalog.CatalogManager.currentNamespace(CatalogManager.scala:93)\n\tat org.apache.spark.sql.catalyst.optimizer.ReplaceCurrentLike.apply(finishAnalysis.scala:112)\n\tat org.apache.spark.sql.catalyst.optimizer.ReplaceCurrentLike.apply(finishAnalysis.scala:109)\n\tat org.apache.spark.sql.catalyst.optimizer.Optimizer$FinishAnalysis$.$anonfun$apply$1(Optimizer.scala:289)\n\tat scala.collection.LinearSeqOptimized.foldLeft(LinearSeqOptimized.scala:126)\n\tat scala.collection.LinearSeqOptimized.foldLeft$(LinearSeqOptimized.scala:122)\n\tat scala.collection.immutable.List.foldLeft(List.scala:91)\n\tat org.apache.spark.sql.catalyst.optimizer.Optimizer$FinishAnalysis$.apply(Optimizer.scala:289)\n\tat org.apache.spark.sql.catalyst.optimizer.Optimizer$FinishAnalysis$.apply(Optimizer.scala:272)\n\tat org.apache.spark.sql.catalyst.rules.RuleExecutor.$anonfun$execute$2(RuleExecutor.scala:211)\n\tat scala.collection.IndexedSeqOptimized.foldLeft(IndexedSeqOptimized.scala:60)\n\tat scala.collection.IndexedSeqOptimized.foldLeft$(IndexedSeqOptimized.scala:68)\n\tat scala.collection.mutable.WrappedArray.foldLeft(WrappedArray.scala:38)\n\tat org.apache.spark.sql.catalyst.rules.RuleExecutor.$anonfun$execute$1(RuleExecutor.scala:208)\n\tat org.apache.spark.sql.catalyst.rules.RuleExecutor.$anonfun$execute$1$adapted(RuleExecutor.scala:200)\n\tat scala.collection.immutable.List.foreach(List.scala:431)\n\tat org.apache.spark.sql.catalyst.rules.RuleExecutor.execute(RuleExecutor.scala:200)\n\tat org.apache.spark.sql.catalyst.rules.RuleExecutor.$anonfun$executeAndTrack$1(RuleExecutor.scala:179)\n\tat org.apache.spark.sql.catalyst.QueryPlanningTracker$.withTracker(QueryPlanningTracker.scala:88)\n\tat org.apache.spark.sql.catalyst.rules.RuleExecutor.executeAndTrack(RuleExecutor.scala:179)\n\tat org.apache.spark.sql.execution.QueryExecution.$anonfun$optimizedPlan$1(QueryExecution.scala:125)\n\tat org.apache.spark.sql.catalyst.QueryPlanningTracker.measurePhase(QueryPlanningTracker.scala:111)\n\tat org.apache.spark.sql.execution.QueryExecution.$anonfun$executePhase$1(QueryExecution.scala:183)\n\tat org.apache.spark.sql.SparkSession.withActive(SparkSession.scala:775)\n\tat org.apache.spark.sql.execution.QueryExecution.executePhase(QueryExecution.scala:183)\n\tat org.apache.spark.sql.execution.QueryExecution.optimizedPlan$lzycompute(QueryExecution.scala:121)\n\tat org.apache.spark.sql.execution.QueryExecution.optimizedPlan(QueryExecution.scala:117)\n\tat org.apache.spark.sql.execution.QueryExecution.assertOptimized(QueryExecution.scala:135)\n\tat org.apache.spark.sql.execution.QueryExecution.executedPlan$lzycompute(QueryExecution.scala:153)\n\tat org.apache.spark.sql.execution.QueryExecution.executedPlan(QueryExecution.scala:150)\n\tat org.apache.spark.sql.execution.QueryExecution.simpleString(QueryExecution.scala:201)\n\tat org.apache.spark.sql.execution.QueryExecution.org$apache$spark$sql$execution$QueryExecution$$explainString(QueryExecution.scala:246)\n\tat org.apache.spark.sql.execution.QueryExecution.explainString(QueryExecution.scala:215)\n\tat org.apache.spark.sql.execution.SQLExecution$.$anonfun$withNewExecutionId$5(SQLExecution.scala:98)\n\tat org.apache.spark.sql.execution.SQLExecution$.withSQLConfPropagated(SQLExecution.scala:163)\n\tat org.apache.spark.sql.execution.SQLExecution$.$anonfun$withNewExecutionId$1(SQLExecution.scala:90)\n\tat org.apache.spark.sql.SparkSession.withActive(SparkSession.scala:775)\n\tat org.apache.spark.sql.execution.SQLExecution$.withNewExecutionId(SQLExecution.scala:64)\n\tat org.apache.spark.sql.Dataset.withAction(Dataset.scala:3704)\n\tat org.apache.spark.sql.Dataset.head(Dataset.scala:2728)\n\tat org.apache.spark.sql.Dataset.take(Dataset.scala:2935)\n\tat org.apache.spark.sql.execution.datasources.csv.TextInputCSVDataSource$.infer(CSVDataSource.scala:112)\n\tat org.apache.spark.sql.execution.datasources.csv.CSVDataSource.inferSchema(CSVDataSource.scala:65)\n\tat org.apache.spark.sql.execution.datasources.csv.CSVFileFormat.inferSchema(CSVFileFormat.scala:62)\n\tat org.apache.spark.sql.execution.datasources.DataSource.$anonfun$getOrInferFileFormatSchema$11(DataSource.scala:210)\n\tat scala.Option.orElse(Option.scala:447)\n\tat org.apache.spark.sql.execution.datasources.DataSource.getOrInferFileFormatSchema(DataSource.scala:207)\n\tat org.apache.spark.sql.execution.datasources.DataSource.resolveRelation(DataSource.scala:411)\n\tat org.apache.spark.sql.DataFrameReader.loadV1Source(DataFrameReader.scala:274)\n\tat org.apache.spark.sql.DataFrameReader.$anonfun$load$3(DataFrameReader.scala:245)\n\tat scala.Option.getOrElse(Option.scala:189)\n\tat org.apache.spark.sql.DataFrameReader.load(DataFrameReader.scala:245)\n\tat org.apache.spark.sql.DataFrameReader.csv(DataFrameReader.scala:571)\n\tat java.base/jdk.internal.reflect.NativeMethodAccessorImpl.invoke0(Native Method)\n\tat java.base/jdk.internal.reflect.NativeMethodAccessorImpl.invoke(NativeMethodAccessorImpl.java:62)\n\tat java.base/jdk.internal.reflect.DelegatingMethodAccessorImpl.invoke(DelegatingMethodAccessorImpl.java:43)\n\tat java.base/java.lang.reflect.Method.invoke(Method.java:566)\n\tat py4j.reflection.MethodInvoker.invoke(MethodInvoker.java:244)\n\tat py4j.reflection.ReflectionEngine.invoke(ReflectionEngine.java:357)\n\tat py4j.Gateway.invoke(Gateway.java:282)\n\tat py4j.commands.AbstractCommand.invokeMethod(AbstractCommand.java:132)\n\tat py4j.commands.CallCommand.execute(CallCommand.java:79)\n\tat py4j.ClientServerConnection.waitForCommands(ClientServerConnection.java:182)\n\tat py4j.ClientServerConnection.run(ClientServerConnection.java:106)\n\tat java.base/java.lang.Thread.run(Thread.java:829)\nCaused by: java.lang.ClassNotFoundException: org.apache.spark.sql.delta.catalog.DeltaCatalog\n\tat java.base/java.net.URLClassLoader.findClass(URLClassLoader.java:476)\n\tat java.base/java.lang.ClassLoader.loadClass(ClassLoader.java:594)\n\tat java.base/java.lang.ClassLoader.loadClass(ClassLoader.java:527)\n\tat org.apache.spark.sql.connector.catalog.Catalogs$.load(Catalogs.scala:55)\n\t... 75 more\n",
     "output_type": "error",
     "traceback": [
      "\u001b[0;31m---------------------------------------------------------------------------\u001b[0m",
      "\u001b[0;31mPy4JJavaError\u001b[0m                             Traceback (most recent call last)",
      "Cell \u001b[0;32mIn[5], line 8\u001b[0m\n\u001b[1;32m      3\u001b[0m builder \u001b[38;5;241m=\u001b[39m pyspark\u001b[38;5;241m.\u001b[39msql\u001b[38;5;241m.\u001b[39mSparkSession\u001b[38;5;241m.\u001b[39mbuilder\u001b[38;5;241m.\u001b[39mappName(\u001b[38;5;124m\"\u001b[39m\u001b[38;5;124mMyApp\u001b[39m\u001b[38;5;124m\"\u001b[39m) \\\n\u001b[1;32m      4\u001b[0m     \u001b[38;5;241m.\u001b[39mconfig(\u001b[38;5;124m\"\u001b[39m\u001b[38;5;124mspark.sql.extensions\u001b[39m\u001b[38;5;124m\"\u001b[39m, \u001b[38;5;124m\"\u001b[39m\u001b[38;5;124mio.delta.sql.DeltaSparkSessionExtension\u001b[39m\u001b[38;5;124m\"\u001b[39m) \\\n\u001b[1;32m      5\u001b[0m     \u001b[38;5;241m.\u001b[39mconfig(\u001b[38;5;124m\"\u001b[39m\u001b[38;5;124mspark.sql.catalog.spark_catalog\u001b[39m\u001b[38;5;124m\"\u001b[39m, \u001b[38;5;124m\"\u001b[39m\u001b[38;5;124morg.apache.spark.sql.delta.catalog.DeltaCatalog\u001b[39m\u001b[38;5;124m\"\u001b[39m)\n\u001b[1;32m      7\u001b[0m spark \u001b[38;5;241m=\u001b[39m configure_spark_with_delta_pip(builder)\u001b[38;5;241m.\u001b[39mgetOrCreate()\n\u001b[0;32m----> 8\u001b[0m df \u001b[38;5;241m=\u001b[39m \u001b[43mspark\u001b[49m\u001b[38;5;241;43m.\u001b[39;49m\u001b[43mread\u001b[49m\u001b[38;5;241;43m.\u001b[39;49m\u001b[43mcsv\u001b[49m\u001b[43m(\u001b[49m\u001b[38;5;124;43m'\u001b[39;49m\u001b[38;5;124;43mdata_deltas/1000/md_account_d.csv\u001b[39;49m\u001b[38;5;124;43m'\u001b[39;49m\u001b[43m,\u001b[49m\u001b[43m \u001b[49m\u001b[43msep\u001b[49m\u001b[43m \u001b[49m\u001b[38;5;241;43m=\u001b[39;49m\u001b[43m \u001b[49m\u001b[38;5;124;43m'\u001b[39;49m\u001b[38;5;124;43m;\u001b[39;49m\u001b[38;5;124;43m'\u001b[39;49m\u001b[43m,\u001b[49m\u001b[43m \u001b[49m\u001b[43mheader\u001b[49m\u001b[43m \u001b[49m\u001b[38;5;241;43m=\u001b[39;49m\u001b[43m \u001b[49m\u001b[38;5;28;43;01mTrue\u001b[39;49;00m\u001b[43m)\u001b[49m\n\u001b[1;32m      9\u001b[0m df\u001b[38;5;241m.\u001b[39mwrite\u001b[38;5;241m.\u001b[39mformat(\u001b[38;5;124m\"\u001b[39m\u001b[38;5;124mdelta\u001b[39m\u001b[38;5;124m\"\u001b[39m)\u001b[38;5;241m.\u001b[39msave(\u001b[38;5;124m'\u001b[39m\u001b[38;5;124mdata_deltas/1000.csv\u001b[39m\u001b[38;5;124m'\u001b[39m)\n\u001b[1;32m     10\u001b[0m df \u001b[38;5;241m=\u001b[39m spark\u001b[38;5;241m.\u001b[39mread\u001b[38;5;241m.\u001b[39mformat(\u001b[38;5;124m\"\u001b[39m\u001b[38;5;124mdelta\u001b[39m\u001b[38;5;124m\"\u001b[39m)\u001b[38;5;241m.\u001b[39mload(\u001b[38;5;124m\"\u001b[39m\u001b[38;5;124mdata_deltas/1000.csv\u001b[39m\u001b[38;5;124m\"\u001b[39m)\n",
      "File \u001b[0;32m~/spark-3.2.4-bin-hadoop3.2/python/pyspark/sql/readwriter.py:410\u001b[0m, in \u001b[0;36mDataFrameReader.csv\u001b[0;34m(self, path, schema, sep, encoding, quote, escape, comment, header, inferSchema, ignoreLeadingWhiteSpace, ignoreTrailingWhiteSpace, nullValue, nanValue, positiveInf, negativeInf, dateFormat, timestampFormat, maxColumns, maxCharsPerColumn, maxMalformedLogPerPartition, mode, columnNameOfCorruptRecord, multiLine, charToEscapeQuoteEscaping, samplingRatio, enforceSchema, emptyValue, locale, lineSep, pathGlobFilter, recursiveFileLookup, modifiedBefore, modifiedAfter, unescapedQuoteHandling)\u001b[0m\n\u001b[1;32m    408\u001b[0m     path \u001b[38;5;241m=\u001b[39m [path]\n\u001b[1;32m    409\u001b[0m \u001b[38;5;28;01mif\u001b[39;00m \u001b[38;5;28mtype\u001b[39m(path) \u001b[38;5;241m==\u001b[39m \u001b[38;5;28mlist\u001b[39m:\n\u001b[0;32m--> 410\u001b[0m     \u001b[38;5;28;01mreturn\u001b[39;00m \u001b[38;5;28mself\u001b[39m\u001b[38;5;241m.\u001b[39m_df(\u001b[38;5;28;43mself\u001b[39;49m\u001b[38;5;241;43m.\u001b[39;49m\u001b[43m_jreader\u001b[49m\u001b[38;5;241;43m.\u001b[39;49m\u001b[43mcsv\u001b[49m\u001b[43m(\u001b[49m\u001b[38;5;28;43mself\u001b[39;49m\u001b[38;5;241;43m.\u001b[39;49m\u001b[43m_spark\u001b[49m\u001b[38;5;241;43m.\u001b[39;49m\u001b[43m_sc\u001b[49m\u001b[38;5;241;43m.\u001b[39;49m\u001b[43m_jvm\u001b[49m\u001b[38;5;241;43m.\u001b[39;49m\u001b[43mPythonUtils\u001b[49m\u001b[38;5;241;43m.\u001b[39;49m\u001b[43mtoSeq\u001b[49m\u001b[43m(\u001b[49m\u001b[43mpath\u001b[49m\u001b[43m)\u001b[49m\u001b[43m)\u001b[49m)\n\u001b[1;32m    411\u001b[0m \u001b[38;5;28;01melif\u001b[39;00m \u001b[38;5;28misinstance\u001b[39m(path, RDD):\n\u001b[1;32m    412\u001b[0m     \u001b[38;5;28;01mdef\u001b[39;00m \u001b[38;5;21mfunc\u001b[39m(iterator):\n",
      "File \u001b[0;32m~/spark-3.2.4-bin-hadoop3.2/python/lib/py4j-0.10.9.5-src.zip/py4j/java_gateway.py:1321\u001b[0m, in \u001b[0;36mJavaMember.__call__\u001b[0;34m(self, *args)\u001b[0m\n\u001b[1;32m   1315\u001b[0m command \u001b[38;5;241m=\u001b[39m proto\u001b[38;5;241m.\u001b[39mCALL_COMMAND_NAME \u001b[38;5;241m+\u001b[39m\\\n\u001b[1;32m   1316\u001b[0m     \u001b[38;5;28mself\u001b[39m\u001b[38;5;241m.\u001b[39mcommand_header \u001b[38;5;241m+\u001b[39m\\\n\u001b[1;32m   1317\u001b[0m     args_command \u001b[38;5;241m+\u001b[39m\\\n\u001b[1;32m   1318\u001b[0m     proto\u001b[38;5;241m.\u001b[39mEND_COMMAND_PART\n\u001b[1;32m   1320\u001b[0m answer \u001b[38;5;241m=\u001b[39m \u001b[38;5;28mself\u001b[39m\u001b[38;5;241m.\u001b[39mgateway_client\u001b[38;5;241m.\u001b[39msend_command(command)\n\u001b[0;32m-> 1321\u001b[0m return_value \u001b[38;5;241m=\u001b[39m \u001b[43mget_return_value\u001b[49m\u001b[43m(\u001b[49m\n\u001b[1;32m   1322\u001b[0m \u001b[43m    \u001b[49m\u001b[43manswer\u001b[49m\u001b[43m,\u001b[49m\u001b[43m \u001b[49m\u001b[38;5;28;43mself\u001b[39;49m\u001b[38;5;241;43m.\u001b[39;49m\u001b[43mgateway_client\u001b[49m\u001b[43m,\u001b[49m\u001b[43m \u001b[49m\u001b[38;5;28;43mself\u001b[39;49m\u001b[38;5;241;43m.\u001b[39;49m\u001b[43mtarget_id\u001b[49m\u001b[43m,\u001b[49m\u001b[43m \u001b[49m\u001b[38;5;28;43mself\u001b[39;49m\u001b[38;5;241;43m.\u001b[39;49m\u001b[43mname\u001b[49m\u001b[43m)\u001b[49m\n\u001b[1;32m   1324\u001b[0m \u001b[38;5;28;01mfor\u001b[39;00m temp_arg \u001b[38;5;129;01min\u001b[39;00m temp_args:\n\u001b[1;32m   1325\u001b[0m     temp_arg\u001b[38;5;241m.\u001b[39m_detach()\n",
      "File \u001b[0;32m~/spark-3.2.4-bin-hadoop3.2/python/pyspark/sql/utils.py:111\u001b[0m, in \u001b[0;36mcapture_sql_exception.<locals>.deco\u001b[0;34m(*a, **kw)\u001b[0m\n\u001b[1;32m    109\u001b[0m \u001b[38;5;28;01mdef\u001b[39;00m \u001b[38;5;21mdeco\u001b[39m(\u001b[38;5;241m*\u001b[39ma, \u001b[38;5;241m*\u001b[39m\u001b[38;5;241m*\u001b[39mkw):\n\u001b[1;32m    110\u001b[0m     \u001b[38;5;28;01mtry\u001b[39;00m:\n\u001b[0;32m--> 111\u001b[0m         \u001b[38;5;28;01mreturn\u001b[39;00m \u001b[43mf\u001b[49m\u001b[43m(\u001b[49m\u001b[38;5;241;43m*\u001b[39;49m\u001b[43ma\u001b[49m\u001b[43m,\u001b[49m\u001b[43m \u001b[49m\u001b[38;5;241;43m*\u001b[39;49m\u001b[38;5;241;43m*\u001b[39;49m\u001b[43mkw\u001b[49m\u001b[43m)\u001b[49m\n\u001b[1;32m    112\u001b[0m     \u001b[38;5;28;01mexcept\u001b[39;00m py4j\u001b[38;5;241m.\u001b[39mprotocol\u001b[38;5;241m.\u001b[39mPy4JJavaError \u001b[38;5;28;01mas\u001b[39;00m e:\n\u001b[1;32m    113\u001b[0m         converted \u001b[38;5;241m=\u001b[39m convert_exception(e\u001b[38;5;241m.\u001b[39mjava_exception)\n",
      "File \u001b[0;32m~/spark-3.2.4-bin-hadoop3.2/python/lib/py4j-0.10.9.5-src.zip/py4j/protocol.py:326\u001b[0m, in \u001b[0;36mget_return_value\u001b[0;34m(answer, gateway_client, target_id, name)\u001b[0m\n\u001b[1;32m    324\u001b[0m value \u001b[38;5;241m=\u001b[39m OUTPUT_CONVERTER[\u001b[38;5;28mtype\u001b[39m](answer[\u001b[38;5;241m2\u001b[39m:], gateway_client)\n\u001b[1;32m    325\u001b[0m \u001b[38;5;28;01mif\u001b[39;00m answer[\u001b[38;5;241m1\u001b[39m] \u001b[38;5;241m==\u001b[39m REFERENCE_TYPE:\n\u001b[0;32m--> 326\u001b[0m     \u001b[38;5;28;01mraise\u001b[39;00m Py4JJavaError(\n\u001b[1;32m    327\u001b[0m         \u001b[38;5;124m\"\u001b[39m\u001b[38;5;124mAn error occurred while calling \u001b[39m\u001b[38;5;132;01m{0}\u001b[39;00m\u001b[38;5;132;01m{1}\u001b[39;00m\u001b[38;5;132;01m{2}\u001b[39;00m\u001b[38;5;124m.\u001b[39m\u001b[38;5;130;01m\\n\u001b[39;00m\u001b[38;5;124m\"\u001b[39m\u001b[38;5;241m.\u001b[39m\n\u001b[1;32m    328\u001b[0m         \u001b[38;5;28mformat\u001b[39m(target_id, \u001b[38;5;124m\"\u001b[39m\u001b[38;5;124m.\u001b[39m\u001b[38;5;124m\"\u001b[39m, name), value)\n\u001b[1;32m    329\u001b[0m \u001b[38;5;28;01melse\u001b[39;00m:\n\u001b[1;32m    330\u001b[0m     \u001b[38;5;28;01mraise\u001b[39;00m Py4JError(\n\u001b[1;32m    331\u001b[0m         \u001b[38;5;124m\"\u001b[39m\u001b[38;5;124mAn error occurred while calling \u001b[39m\u001b[38;5;132;01m{0}\u001b[39;00m\u001b[38;5;132;01m{1}\u001b[39;00m\u001b[38;5;132;01m{2}\u001b[39;00m\u001b[38;5;124m. Trace:\u001b[39m\u001b[38;5;130;01m\\n\u001b[39;00m\u001b[38;5;132;01m{3}\u001b[39;00m\u001b[38;5;130;01m\\n\u001b[39;00m\u001b[38;5;124m\"\u001b[39m\u001b[38;5;241m.\u001b[39m\n\u001b[1;32m    332\u001b[0m         \u001b[38;5;28mformat\u001b[39m(target_id, \u001b[38;5;124m\"\u001b[39m\u001b[38;5;124m.\u001b[39m\u001b[38;5;124m\"\u001b[39m, name, value))\n",
      "\u001b[0;31mPy4JJavaError\u001b[0m: An error occurred while calling o500.csv.\n: org.apache.spark.SparkException: Cannot find catalog plugin class for catalog 'spark_catalog': org.apache.spark.sql.delta.catalog.DeltaCatalog\n\tat org.apache.spark.sql.errors.QueryExecutionErrors$.catalogPluginClassNotFoundForCatalogError(QueryExecutionErrors.scala:1455)\n\tat org.apache.spark.sql.connector.catalog.Catalogs$.load(Catalogs.scala:65)\n\tat org.apache.spark.sql.connector.catalog.CatalogManager.loadV2SessionCatalog(CatalogManager.scala:66)\n\tat org.apache.spark.sql.connector.catalog.CatalogManager.$anonfun$v2SessionCatalog$2(CatalogManager.scala:85)\n\tat scala.collection.mutable.HashMap.getOrElseUpdate(HashMap.scala:86)\n\tat org.apache.spark.sql.connector.catalog.CatalogManager.$anonfun$v2SessionCatalog$1(CatalogManager.scala:85)\n\tat scala.Option.map(Option.scala:230)\n\tat org.apache.spark.sql.connector.catalog.CatalogManager.v2SessionCatalog(CatalogManager.scala:84)\n\tat org.apache.spark.sql.connector.catalog.CatalogManager.catalog(CatalogManager.scala:50)\n\tat org.apache.spark.sql.connector.catalog.CatalogManager.currentCatalog(CatalogManager.scala:117)\n\tat org.apache.spark.sql.connector.catalog.CatalogManager.$anonfun$currentNamespace$1(CatalogManager.scala:93)\n\tat scala.Option.getOrElse(Option.scala:189)\n\tat org.apache.spark.sql.connector.catalog.CatalogManager.currentNamespace(CatalogManager.scala:93)\n\tat org.apache.spark.sql.catalyst.optimizer.ReplaceCurrentLike.apply(finishAnalysis.scala:112)\n\tat org.apache.spark.sql.catalyst.optimizer.ReplaceCurrentLike.apply(finishAnalysis.scala:109)\n\tat org.apache.spark.sql.catalyst.optimizer.Optimizer$FinishAnalysis$.$anonfun$apply$1(Optimizer.scala:289)\n\tat scala.collection.LinearSeqOptimized.foldLeft(LinearSeqOptimized.scala:126)\n\tat scala.collection.LinearSeqOptimized.foldLeft$(LinearSeqOptimized.scala:122)\n\tat scala.collection.immutable.List.foldLeft(List.scala:91)\n\tat org.apache.spark.sql.catalyst.optimizer.Optimizer$FinishAnalysis$.apply(Optimizer.scala:289)\n\tat org.apache.spark.sql.catalyst.optimizer.Optimizer$FinishAnalysis$.apply(Optimizer.scala:272)\n\tat org.apache.spark.sql.catalyst.rules.RuleExecutor.$anonfun$execute$2(RuleExecutor.scala:211)\n\tat scala.collection.IndexedSeqOptimized.foldLeft(IndexedSeqOptimized.scala:60)\n\tat scala.collection.IndexedSeqOptimized.foldLeft$(IndexedSeqOptimized.scala:68)\n\tat scala.collection.mutable.WrappedArray.foldLeft(WrappedArray.scala:38)\n\tat org.apache.spark.sql.catalyst.rules.RuleExecutor.$anonfun$execute$1(RuleExecutor.scala:208)\n\tat org.apache.spark.sql.catalyst.rules.RuleExecutor.$anonfun$execute$1$adapted(RuleExecutor.scala:200)\n\tat scala.collection.immutable.List.foreach(List.scala:431)\n\tat org.apache.spark.sql.catalyst.rules.RuleExecutor.execute(RuleExecutor.scala:200)\n\tat org.apache.spark.sql.catalyst.rules.RuleExecutor.$anonfun$executeAndTrack$1(RuleExecutor.scala:179)\n\tat org.apache.spark.sql.catalyst.QueryPlanningTracker$.withTracker(QueryPlanningTracker.scala:88)\n\tat org.apache.spark.sql.catalyst.rules.RuleExecutor.executeAndTrack(RuleExecutor.scala:179)\n\tat org.apache.spark.sql.execution.QueryExecution.$anonfun$optimizedPlan$1(QueryExecution.scala:125)\n\tat org.apache.spark.sql.catalyst.QueryPlanningTracker.measurePhase(QueryPlanningTracker.scala:111)\n\tat org.apache.spark.sql.execution.QueryExecution.$anonfun$executePhase$1(QueryExecution.scala:183)\n\tat org.apache.spark.sql.SparkSession.withActive(SparkSession.scala:775)\n\tat org.apache.spark.sql.execution.QueryExecution.executePhase(QueryExecution.scala:183)\n\tat org.apache.spark.sql.execution.QueryExecution.optimizedPlan$lzycompute(QueryExecution.scala:121)\n\tat org.apache.spark.sql.execution.QueryExecution.optimizedPlan(QueryExecution.scala:117)\n\tat org.apache.spark.sql.execution.QueryExecution.assertOptimized(QueryExecution.scala:135)\n\tat org.apache.spark.sql.execution.QueryExecution.executedPlan$lzycompute(QueryExecution.scala:153)\n\tat org.apache.spark.sql.execution.QueryExecution.executedPlan(QueryExecution.scala:150)\n\tat org.apache.spark.sql.execution.QueryExecution.simpleString(QueryExecution.scala:201)\n\tat org.apache.spark.sql.execution.QueryExecution.org$apache$spark$sql$execution$QueryExecution$$explainString(QueryExecution.scala:246)\n\tat org.apache.spark.sql.execution.QueryExecution.explainString(QueryExecution.scala:215)\n\tat org.apache.spark.sql.execution.SQLExecution$.$anonfun$withNewExecutionId$5(SQLExecution.scala:98)\n\tat org.apache.spark.sql.execution.SQLExecution$.withSQLConfPropagated(SQLExecution.scala:163)\n\tat org.apache.spark.sql.execution.SQLExecution$.$anonfun$withNewExecutionId$1(SQLExecution.scala:90)\n\tat org.apache.spark.sql.SparkSession.withActive(SparkSession.scala:775)\n\tat org.apache.spark.sql.execution.SQLExecution$.withNewExecutionId(SQLExecution.scala:64)\n\tat org.apache.spark.sql.Dataset.withAction(Dataset.scala:3704)\n\tat org.apache.spark.sql.Dataset.head(Dataset.scala:2728)\n\tat org.apache.spark.sql.Dataset.take(Dataset.scala:2935)\n\tat org.apache.spark.sql.execution.datasources.csv.TextInputCSVDataSource$.infer(CSVDataSource.scala:112)\n\tat org.apache.spark.sql.execution.datasources.csv.CSVDataSource.inferSchema(CSVDataSource.scala:65)\n\tat org.apache.spark.sql.execution.datasources.csv.CSVFileFormat.inferSchema(CSVFileFormat.scala:62)\n\tat org.apache.spark.sql.execution.datasources.DataSource.$anonfun$getOrInferFileFormatSchema$11(DataSource.scala:210)\n\tat scala.Option.orElse(Option.scala:447)\n\tat org.apache.spark.sql.execution.datasources.DataSource.getOrInferFileFormatSchema(DataSource.scala:207)\n\tat org.apache.spark.sql.execution.datasources.DataSource.resolveRelation(DataSource.scala:411)\n\tat org.apache.spark.sql.DataFrameReader.loadV1Source(DataFrameReader.scala:274)\n\tat org.apache.spark.sql.DataFrameReader.$anonfun$load$3(DataFrameReader.scala:245)\n\tat scala.Option.getOrElse(Option.scala:189)\n\tat org.apache.spark.sql.DataFrameReader.load(DataFrameReader.scala:245)\n\tat org.apache.spark.sql.DataFrameReader.csv(DataFrameReader.scala:571)\n\tat java.base/jdk.internal.reflect.NativeMethodAccessorImpl.invoke0(Native Method)\n\tat java.base/jdk.internal.reflect.NativeMethodAccessorImpl.invoke(NativeMethodAccessorImpl.java:62)\n\tat java.base/jdk.internal.reflect.DelegatingMethodAccessorImpl.invoke(DelegatingMethodAccessorImpl.java:43)\n\tat java.base/java.lang.reflect.Method.invoke(Method.java:566)\n\tat py4j.reflection.MethodInvoker.invoke(MethodInvoker.java:244)\n\tat py4j.reflection.ReflectionEngine.invoke(ReflectionEngine.java:357)\n\tat py4j.Gateway.invoke(Gateway.java:282)\n\tat py4j.commands.AbstractCommand.invokeMethod(AbstractCommand.java:132)\n\tat py4j.commands.CallCommand.execute(CallCommand.java:79)\n\tat py4j.ClientServerConnection.waitForCommands(ClientServerConnection.java:182)\n\tat py4j.ClientServerConnection.run(ClientServerConnection.java:106)\n\tat java.base/java.lang.Thread.run(Thread.java:829)\nCaused by: java.lang.ClassNotFoundException: org.apache.spark.sql.delta.catalog.DeltaCatalog\n\tat java.base/java.net.URLClassLoader.findClass(URLClassLoader.java:476)\n\tat java.base/java.lang.ClassLoader.loadClass(ClassLoader.java:594)\n\tat java.base/java.lang.ClassLoader.loadClass(ClassLoader.java:527)\n\tat org.apache.spark.sql.connector.catalog.Catalogs$.load(Catalogs.scala:55)\n\t... 75 more\n"
     ]
    }
   ],
   "source": [
    "from delta import *\n",
    "\n",
    "builder = pyspark.sql.SparkSession.builder.appName(\"MyApp\") \\\n",
    "    .config(\"spark.sql.extensions\", \"io.delta.sql.DeltaSparkSessionExtension\") \\\n",
    "    .config(\"spark.sql.catalog.spark_catalog\", \"org.apache.spark.sql.delta.catalog.DeltaCatalog\")\n",
    "\n",
    "spark = configure_spark_with_delta_pip(builder).getOrCreate()\n",
    "df = spark.read.csv('data_deltas/1000/md_account_d.csv', sep = ';', header = True)\n",
    "df.write.format(\"delta\").save('data_deltas/1000.csv')\n",
    "df = spark.read.format(\"delta\").load(\"data_deltas/1000.csv\")"
   ]
  },
  {
   "cell_type": "code",
   "execution_count": 24,
   "id": "c3c94314-355a-4a78-b8ee-49c6de254909",
   "metadata": {},
   "outputs": [],
   "source": [
    "\n",
    "from delta.pip_utils import configure_spark_with_delta_pip\n",
    "def create_mirrow_with_deltas (table_name:str, delta_dir:str, primary_keys:list):\n",
    "    print('подключение к базе данных')\n",
    "    \n",
    "    conn = psycopg2.connect(user='postgres',\n",
    "                            password = '',\n",
    "                            host='127.0.0.1',\n",
    "                            port='5432',\n",
    "                            database='postgres')\n",
    "    cursor = conn.cursor()\n",
    "    \n",
    "    get_table_col_name= f\"SELECT column_name FROM information_schema.columns WHERE table_name = '{table_name}' ORDER BY ordinal_position\"\n",
    "    cursor.execute(get_table_col_name)\n",
    "    col_name = cursor.fetchall()\n",
    "    \n",
    "    query = f\"SELECT * FROM {table_name}\"\n",
    "    cursor.execute(query)\n",
    "    \n",
    "    df_data = cursor.fetchall()\n",
    "    \n",
    "    create_table_query = \"\"\"\n",
    "    CREATE TABLE IF NOT EXISTS public.log_1 (\n",
    "        operation_start_time timestamp,\n",
    "        delta_id varchar(5),\n",
    "        start_or_end varchar(5),\n",
    "        table_name varchar (15)\n",
    "    )\n",
    "    \"\"\"\n",
    "    conn.commit()\n",
    "    \n",
    "    cursor.execute(create_table_query)\n",
    "\n",
    "    print('создание spark сессии')\n",
    "\n",
    "    \n",
    "    spark = SparkSession.builder \\\n",
    "        .config(\"spark.memory.offHeap.enabled\",\"true\") \\\n",
    "        .config(\"spark.memory.offHeap.size\",\"16g\") \\\n",
    "        .config(\"spark.jars.packages\", \"io.delta:delta-core_2.12:1.2.1\") \\\n",
    "        .config(\"spark.jars.repositories\", \"https://maven-central.storage-download.googleapis.com/maven2/\") \\\n",
    "        .appName('project_2.2') \\\n",
    "        .enableHiveSupport() \\\n",
    "        .getOrCreate()\n",
    "    spark_df = spark.createDataFrame(df_data, list(zip(*col_name))[0])\n",
    "    spark_df.show(3)\n",
    "    \n",
    "\n",
    "    delta_ids = []\n",
    "    for folder_name in sorted(os.listdir(delta_dir)):\n",
    "        if len(folder_name) == 4:\n",
    "            delta_ids.append(folder_name)\n",
    "            \n",
    "    get_checked_deltas = \"\"\"\n",
    "        SELECT delta_id FROM public.log_1 WHERE start_or_end = 'END'\n",
    "    \"\"\"\n",
    "    cursor.execute(get_checked_deltas)\n",
    "    checked_deltas = cursor.fetchall()\n",
    "    conn.commit()\n",
    "    if len(checked_deltas) == 0:\n",
    "        pass\n",
    "    else:\n",
    "        checked_deltas = list(zip(*checked_deltas))[0]\n",
    "        \n",
    "    for id, del_id in enumerate(sorted(set(delta_ids).symmetric_difference(set(checked_deltas)))):\n",
    "        print('считывается дельта', del_id)\n",
    "        \n",
    "        current_time = datetime.now()\n",
    "        insert_start_to_log = f\"\"\"\n",
    "            INSERT INTO public.log_1\n",
    "            VALUES ('{current_time}', '{del_id}', 'START', '{table_name}');\n",
    "            \"\"\"\n",
    "        cursor.execute(insert_start_to_log)\n",
    "        conn.commit()\n",
    "        if del_id[-1] == '0':\n",
    "            path = delta_dir + del_id + '/md_account_d' + '.csv'\n",
    "        else:\n",
    "            path = delta_dir + del_id + '/md_account_d' + '_' + del_id[-1] + '.csv'\n",
    "        delta_df = spark.read.csv(path, header=True, sep = ';')\n",
    "        delta_df = delta_df.na.drop(\"all\")\n",
    "        #delta_table = DeltaTable.forPath(spark, path)\n",
    "        #delta_df = spark.read.format(\"delta\").load(path)\n",
    "        #delta_df = (spark_builder.read.format(\"delta\").load(path))\n",
    "\n",
    "        for col_name in delta_df.columns:\n",
    "            delta_df = delta_df.withColumnRenamed(col_name, col_name.lower())\n",
    "        try:\n",
    "            delta_data = spark_df.exceptAll(delta_df)\n",
    "        except AnalysisException:\n",
    "            for new_columns in (set(delta_df.columns).symmetric_difference(set(spark_df.columns))):\n",
    "                spark_df = spark_df.withColumn(new_columns, lit(None))\n",
    "        delta_data = spark_df.exceptAll(delta_df)\n",
    "    \n",
    "        for col_name in delta_data.columns:\n",
    "            delta_data = delta_data.withColumnRenamed(col_name, 'del_' + col_name)\n",
    "    \n",
    "        condition = None\n",
    "        for key in primary_keys:\n",
    "            if condition is None:\n",
    "                condition = col(f'{key}') == col(f'del_{key}')\n",
    "                when_condition_1 = col(f'del_{key}').isNull()\n",
    "                when_condition_2 = col(f'{key}').isNull()\n",
    "            else:\n",
    "                condition = condition & (col(f'{key}') == col(f'del_{key}'))\n",
    "                when_condition_1 = when_condition_1 & (col(f'del_{key}').isNull()) \n",
    "                when_condition_2 = when_condition_2 & (col(f'{key}').isNull())  \n",
    "        \n",
    "        delta_data = delta_data.to_pandas_on_spark()\n",
    "        delta_data.to_delta(mode='overwrite', path= '1000.csv')\n",
    "        delta_data = spark.read.format(\"delta\").load(\"1000.csv\")\n",
    "        \n",
    "        (delta_data\n",
    "        .merge(spark_df, condition)\n",
    "        .whenMatchedUpdateAll(\n",
    "            {\n",
    "                \n",
    "            })\n",
    "        .whenNotMatchedInsertAll()\n",
    "        .execute()\n",
    "        )\n",
    "        \n",
    "        current_time = datetime.now()\n",
    "        #insert_end_to_log = f\"\"\"\n",
    "         #   INSERT INTO public.log_1 \n",
    "          #  VALUES ('{current_time}', '{del_id}', 'END', '{table_name}');\n",
    "           # \"\"\"\n",
    "        #cursor.execute(insert_end_to_log)\n",
    "        #conn.commit()\n",
    "    spark.stop()\n",
    "    cursor.close()\n",
    "    conn.commit()\n",
    "    conn.close()"
   ]
  },
  {
   "cell_type": "code",
   "execution_count": 25,
   "id": "fca86968-3f63-40d1-8c9d-d3ab89797a84",
   "metadata": {},
   "outputs": [
    {
     "name": "stdout",
     "output_type": "stream",
     "text": [
      "подключение к базе данных\n",
      "создание spark сессии\n",
      "+----------------+--------------------+--------------------+--------------------+---------+--------------------+-------------+\n",
      "|data_actual_date|data_actual_end_date|          account_rk|      account_number|char_type|         currency_rk|currency_code|\n",
      "+----------------+--------------------+--------------------+--------------------+---------+--------------------+-------------+\n",
      "|      2018-01-01|          2018-01-31|36237725.00000000...|30425840700000583001|        A|35.00000000000000...|          840|\n",
      "|      2018-01-01|          2018-01-31|24656.00000000000...|30114840700000770002|        A|35.00000000000000...|          840|\n",
      "|      2018-01-01|          2018-01-31|18849846.00000000...|30109810500000435003|        P|34.00000000000000...|          643|\n",
      "+----------------+--------------------+--------------------+--------------------+---------+--------------------+-------------+\n",
      "only showing top 3 rows\n",
      "\n",
      "считывается дельта 1000\n"
     ]
    },
    {
     "name": "stderr",
     "output_type": "stream",
     "text": [
      "                                                                                \r"
     ]
    },
    {
     "ename": "AttributeError",
     "evalue": "'DataFrame' object has no attribute 'merge'",
     "output_type": "error",
     "traceback": [
      "\u001b[0;31m---------------------------------------------------------------------------\u001b[0m",
      "\u001b[0;31mAttributeError\u001b[0m                            Traceback (most recent call last)",
      "Cell \u001b[0;32mIn[25], line 1\u001b[0m\n\u001b[0;32m----> 1\u001b[0m \u001b[43mcreate_mirrow_with_deltas\u001b[49m\u001b[43m(\u001b[49m\u001b[38;5;124;43m'\u001b[39;49m\u001b[38;5;124;43mmd_account_d\u001b[39;49m\u001b[38;5;124;43m'\u001b[39;49m\u001b[43m,\u001b[49m\u001b[43m \u001b[49m\u001b[38;5;124;43m'\u001b[39;49m\u001b[38;5;124;43mdata_deltas/\u001b[39;49m\u001b[38;5;124;43m'\u001b[39;49m\u001b[43m,\u001b[49m\u001b[43m \u001b[49m\u001b[43m[\u001b[49m\u001b[38;5;124;43m'\u001b[39;49m\u001b[38;5;124;43maccount_rk\u001b[39;49m\u001b[38;5;124;43m'\u001b[39;49m\u001b[43m]\u001b[49m\u001b[43m)\u001b[49m\n",
      "Cell \u001b[0;32mIn[24], line 112\u001b[0m, in \u001b[0;36mcreate_mirrow_with_deltas\u001b[0;34m(table_name, delta_dir, primary_keys)\u001b[0m\n\u001b[1;32m    108\u001b[0m delta_data\u001b[38;5;241m.\u001b[39mto_delta(mode\u001b[38;5;241m=\u001b[39m\u001b[38;5;124m'\u001b[39m\u001b[38;5;124moverwrite\u001b[39m\u001b[38;5;124m'\u001b[39m, path\u001b[38;5;241m=\u001b[39m \u001b[38;5;124m'\u001b[39m\u001b[38;5;124m1000.csv\u001b[39m\u001b[38;5;124m'\u001b[39m)\n\u001b[1;32m    109\u001b[0m delta_data \u001b[38;5;241m=\u001b[39m spark\u001b[38;5;241m.\u001b[39mread\u001b[38;5;241m.\u001b[39mformat(\u001b[38;5;124m\"\u001b[39m\u001b[38;5;124mdelta\u001b[39m\u001b[38;5;124m\"\u001b[39m)\u001b[38;5;241m.\u001b[39mload(\u001b[38;5;124m\"\u001b[39m\u001b[38;5;124m1000.csv\u001b[39m\u001b[38;5;124m\"\u001b[39m)\n\u001b[1;32m    111\u001b[0m (\u001b[43mdelta_data\u001b[49m\n\u001b[0;32m--> 112\u001b[0m \u001b[43m\u001b[49m\u001b[38;5;241;43m.\u001b[39;49m\u001b[43mmerge\u001b[49m(spark_df, condition)\n\u001b[1;32m    113\u001b[0m \u001b[38;5;241m.\u001b[39mwhenMatchedUpdateAll(\n\u001b[1;32m    114\u001b[0m     {\n\u001b[1;32m    115\u001b[0m         \n\u001b[1;32m    116\u001b[0m     })\n\u001b[1;32m    117\u001b[0m \u001b[38;5;241m.\u001b[39mwhenNotMatchedInsertAll()\n\u001b[1;32m    118\u001b[0m \u001b[38;5;241m.\u001b[39mexecute()\n\u001b[1;32m    119\u001b[0m )\n\u001b[1;32m    121\u001b[0m current_time \u001b[38;5;241m=\u001b[39m datetime\u001b[38;5;241m.\u001b[39mnow()\n\u001b[1;32m    122\u001b[0m \u001b[38;5;66;03m#insert_end_to_log = f\"\"\"\u001b[39;00m\n\u001b[1;32m    123\u001b[0m  \u001b[38;5;66;03m#   INSERT INTO public.log_1 \u001b[39;00m\n\u001b[1;32m    124\u001b[0m   \u001b[38;5;66;03m#  VALUES ('{current_time}', '{del_id}', 'END', '{table_name}');\u001b[39;00m\n\u001b[1;32m    125\u001b[0m    \u001b[38;5;66;03m# \"\"\"\u001b[39;00m\n\u001b[1;32m    126\u001b[0m \u001b[38;5;66;03m#cursor.execute(insert_end_to_log)\u001b[39;00m\n\u001b[1;32m    127\u001b[0m \u001b[38;5;66;03m#conn.commit()\u001b[39;00m\n",
      "File \u001b[0;32m~/spark-3.2.4-bin-hadoop3.2/python/pyspark/sql/dataframe.py:1659\u001b[0m, in \u001b[0;36mDataFrame.__getattr__\u001b[0;34m(self, name)\u001b[0m\n\u001b[1;32m   1649\u001b[0m \u001b[38;5;250m\u001b[39m\u001b[38;5;124;03m\"\"\"Returns the :class:`Column` denoted by ``name``.\u001b[39;00m\n\u001b[1;32m   1650\u001b[0m \n\u001b[1;32m   1651\u001b[0m \u001b[38;5;124;03m.. versionadded:: 1.3.0\u001b[39;00m\n\u001b[0;32m   (...)\u001b[0m\n\u001b[1;32m   1656\u001b[0m \u001b[38;5;124;03m[Row(age=2), Row(age=5)]\u001b[39;00m\n\u001b[1;32m   1657\u001b[0m \u001b[38;5;124;03m\"\"\"\u001b[39;00m\n\u001b[1;32m   1658\u001b[0m \u001b[38;5;28;01mif\u001b[39;00m name \u001b[38;5;129;01mnot\u001b[39;00m \u001b[38;5;129;01min\u001b[39;00m \u001b[38;5;28mself\u001b[39m\u001b[38;5;241m.\u001b[39mcolumns:\n\u001b[0;32m-> 1659\u001b[0m     \u001b[38;5;28;01mraise\u001b[39;00m \u001b[38;5;167;01mAttributeError\u001b[39;00m(\n\u001b[1;32m   1660\u001b[0m         \u001b[38;5;124m\"\u001b[39m\u001b[38;5;124m'\u001b[39m\u001b[38;5;132;01m%s\u001b[39;00m\u001b[38;5;124m'\u001b[39m\u001b[38;5;124m object has no attribute \u001b[39m\u001b[38;5;124m'\u001b[39m\u001b[38;5;132;01m%s\u001b[39;00m\u001b[38;5;124m'\u001b[39m\u001b[38;5;124m\"\u001b[39m \u001b[38;5;241m%\u001b[39m (\u001b[38;5;28mself\u001b[39m\u001b[38;5;241m.\u001b[39m\u001b[38;5;18m__class__\u001b[39m\u001b[38;5;241m.\u001b[39m\u001b[38;5;18m__name__\u001b[39m, name))\n\u001b[1;32m   1661\u001b[0m jc \u001b[38;5;241m=\u001b[39m \u001b[38;5;28mself\u001b[39m\u001b[38;5;241m.\u001b[39m_jdf\u001b[38;5;241m.\u001b[39mapply(name)\n\u001b[1;32m   1662\u001b[0m \u001b[38;5;28;01mreturn\u001b[39;00m Column(jc)\n",
      "\u001b[0;31mAttributeError\u001b[0m: 'DataFrame' object has no attribute 'merge'"
     ]
    }
   ],
   "source": [
    "create_mirrow_with_deltas('md_account_d', 'data_deltas/', ['account_rk'])"
   ]
  },
  {
   "cell_type": "code",
   "execution_count": null,
   "id": "3ad6ae1c-3c2f-4f61-9ea1-edf35cae5681",
   "metadata": {},
   "outputs": [],
   "source": []
  }
 ],
 "metadata": {
  "kernelspec": {
   "display_name": "Python 3 (ipykernel)",
   "language": "python",
   "name": "python3"
  },
  "language_info": {
   "codemirror_mode": {
    "name": "ipython",
    "version": 3
   },
   "file_extension": ".py",
   "mimetype": "text/x-python",
   "name": "python",
   "nbconvert_exporter": "python",
   "pygments_lexer": "ipython3",
   "version": "3.10.12"
  }
 },
 "nbformat": 4,
 "nbformat_minor": 5
}
